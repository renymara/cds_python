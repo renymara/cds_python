{
 "cells": [
  {
   "cell_type": "code",
   "execution_count": 1,
   "id": "a4736316-5583-439f-a811-2a918c62edc8",
   "metadata": {},
   "outputs": [],
   "source": [
    "import pandas as pd\n",
    "import numpy as np\n",
    "import plotly.express as px"
   ]
  },
  {
   "cell_type": "code",
   "execution_count": 2,
   "id": "b2c4c1ad-d4e4-4fe8-9114-68fd3b8df355",
   "metadata": {},
   "outputs": [],
   "source": [
    "data_path = f\"../data/zomato_processed.csv\"\n",
    "df_original = pd.read_csv(data_path)\n",
    "df = df_original.copy()"
   ]
  },
  {
   "cell_type": "code",
   "execution_count": 6,
   "id": "28775775-1999-49d1-9087-d4ec079232e0",
   "metadata": {},
   "outputs": [
    {
     "data": {
      "text/plain": [
       "array(['Philippines', 'Brazil', 'Australia', 'United States of America',\n",
       "       'Canada', 'Singapore', 'United Arab Emirates', 'India',\n",
       "       'Indonesia', 'New Zealand', 'England', 'Qatar', 'South Africa',\n",
       "       'Sri Lanka', 'Turkey'], dtype=object)"
      ]
     },
     "execution_count": 6,
     "metadata": {},
     "output_type": "execute_result"
    }
   ],
   "source": [
    "df['country_name'].unique()"
   ]
  },
  {
   "cell_type": "code",
   "execution_count": null,
   "id": "91c2126c-92a6-4ca3-b105-1462214a38a1",
   "metadata": {},
   "outputs": [],
   "source": []
  }
 ],
 "metadata": {
  "kernelspec": {
   "display_name": "Python 3 (ipykernel)",
   "language": "python",
   "name": "python3"
  },
  "language_info": {
   "codemirror_mode": {
    "name": "ipython",
    "version": 3
   },
   "file_extension": ".py",
   "mimetype": "text/x-python",
   "name": "python",
   "nbconvert_exporter": "python",
   "pygments_lexer": "ipython3",
   "version": "3.9.19"
  }
 },
 "nbformat": 4,
 "nbformat_minor": 5
}
